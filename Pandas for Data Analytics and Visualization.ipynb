{
 "cells": [
  {
   "cell_type": "code",
   "execution_count": 1,
   "id": "4c03c18a",
   "metadata": {},
   "outputs": [],
   "source": [
    "import pandas as pd"
   ]
  },
  {
   "cell_type": "code",
   "execution_count": 2,
   "id": "288138b9",
   "metadata": {},
   "outputs": [],
   "source": [
    "#importing the violation data\n",
    "\n",
    "nyc_violations_df=pd.read_csv(r'C:\\Users\\GilB\\nyc_parking_violations_2020.csv', usecols=['Plate ID','Registration State','Vehicle Make','Vehicle Color','Violation Time','Street Name'])"
   ]
  },
  {
   "cell_type": "code",
   "execution_count": 3,
   "id": "1df8124e",
   "metadata": {},
   "outputs": [
    {
     "name": "stdout",
     "output_type": "stream",
     "text": [
      "<class 'pandas.core.frame.DataFrame'>\n",
      "RangeIndex: 12495734 entries, 0 to 12495733\n",
      "Data columns (total 6 columns):\n",
      " #   Column              Dtype \n",
      "---  ------              ----- \n",
      " 0   Plate ID            object\n",
      " 1   Registration State  object\n",
      " 2   Vehicle Make        object\n",
      " 3   Violation Time      object\n",
      " 4   Street Name         object\n",
      " 5   Vehicle Color       object\n",
      "dtypes: object(6)\n",
      "memory usage: 572.0+ MB\n"
     ]
    }
   ],
   "source": [
    "#retrieving information about our data\n",
    "nyc_violations_df.info()"
   ]
  },
  {
   "cell_type": "code",
   "execution_count": 4,
   "id": "b3bc96f2",
   "metadata": {},
   "outputs": [
    {
     "data": {
      "text/plain": [
       "Plate ID                 202\n",
       "Registration State         0\n",
       "Vehicle Make           62420\n",
       "Violation Time           278\n",
       "Street Name             1417\n",
       "Vehicle Color         391982\n",
       "dtype: int64"
      ]
     },
     "execution_count": 4,
     "metadata": {},
     "output_type": "execute_result"
    }
   ],
   "source": [
    "#counting rows with missing data\n",
    "nyc_violations_df.isnull().sum()"
   ]
  },
  {
   "cell_type": "code",
   "execution_count": 5,
   "id": "67dafc33",
   "metadata": {},
   "outputs": [],
   "source": [
    "#dropping rows with missing data in Plate ID, Registration, State and or Stret Name\n",
    "\n",
    "new_nyc_violation_df = nyc_violations_df.dropna(subset=['Plate ID','Registration State','Street Name'])"
   ]
  },
  {
   "cell_type": "code",
   "execution_count": 6,
   "id": "76143dee",
   "metadata": {},
   "outputs": [],
   "source": [
    "#retrieving information about our new dataframe without missing data in Plate ID, Registration State and or Street Name"
   ]
  },
  {
   "cell_type": "code",
   "execution_count": 7,
   "id": "a074bad4",
   "metadata": {},
   "outputs": [
    {
     "name": "stdout",
     "output_type": "stream",
     "text": [
      "<class 'pandas.core.frame.DataFrame'>\n",
      "Int64Index: 12494116 entries, 0 to 12495733\n",
      "Data columns (total 6 columns):\n",
      " #   Column              Dtype \n",
      "---  ------              ----- \n",
      " 0   Plate ID            object\n",
      " 1   Registration State  object\n",
      " 2   Vehicle Make        object\n",
      " 3   Violation Time      object\n",
      " 4   Street Name         object\n",
      " 5   Vehicle Color       object\n",
      "dtypes: object(6)\n",
      "memory usage: 667.3+ MB\n"
     ]
    }
   ],
   "source": [
    "new_nyc_violation_df.info()"
   ]
  },
  {
   "cell_type": "code",
   "execution_count": 8,
   "id": "d1ea5f13",
   "metadata": {},
   "outputs": [
    {
     "data": {
      "text/plain": [
       "Plate ID                   0\n",
       "Registration State         0\n",
       "Vehicle Make           62167\n",
       "Violation Time           263\n",
       "Street Name                0\n",
       "Vehicle Color         391664\n",
       "dtype: int64"
      ]
     },
     "execution_count": 8,
     "metadata": {},
     "output_type": "execute_result"
    }
   ],
   "source": [
    "#checking to make sure there are no rows with missing data in Plate ID, Registration State and or Street Name in our new data frame\n",
    "new_nyc_violation_df.isnull().sum()"
   ]
  },
  {
   "cell_type": "code",
   "execution_count": 21,
   "id": "efc0630f",
   "metadata": {},
   "outputs": [
    {
     "data": {
      "text/plain": [
       "12495532"
      ]
     },
     "execution_count": 21,
     "metadata": {},
     "output_type": "execute_result"
    }
   ],
   "source": [
    "#no of rows remaining after the rows with missing data is deleted is the number of tickets to be dimmised\n",
    "# i used the [0] index because the shape of a df returns the number of (rows , columns)\n",
    "\n",
    "dismissed = nyc_violations_df[['Plate ID','Registration State','Street Name']].count()\n",
    "TotalDismissed=dismissed[0]\n",
    "TotalDismissed"
   ]
  },
  {
   "cell_type": "code",
   "execution_count": 23,
   "id": "b5de771a",
   "metadata": {},
   "outputs": [
    {
     "name": "stdout",
     "output_type": "stream",
     "text": [
      "The total amount the city would lose is $1249553200.00\n"
     ]
    }
   ],
   "source": [
    "# Total amount the city looses = number of dismissed tickets * 100(fine on ticket)\n",
    "Amount_lost =TotalDismissed*100\n",
    "\n",
    "print(f\"The total amount the city would lose is ${Amount_lost:.2f}\")"
   ]
  },
  {
   "cell_type": "code",
   "execution_count": null,
   "id": "1119165a",
   "metadata": {},
   "outputs": [],
   "source": []
  }
 ],
 "metadata": {
  "kernelspec": {
   "display_name": "Python 3 (ipykernel)",
   "language": "python",
   "name": "python3"
  },
  "language_info": {
   "codemirror_mode": {
    "name": "ipython",
    "version": 3
   },
   "file_extension": ".py",
   "mimetype": "text/x-python",
   "name": "python",
   "nbconvert_exporter": "python",
   "pygments_lexer": "ipython3",
   "version": "3.10.7"
  }
 },
 "nbformat": 4,
 "nbformat_minor": 5
}
